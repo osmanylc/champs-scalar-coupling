{
 "cells": [
  {
   "cell_type": "code",
   "execution_count": 1,
   "metadata": {},
   "outputs": [],
   "source": [
    "%load_ext autoreload\n",
    "%autoreload 2"
   ]
  },
  {
   "cell_type": "code",
   "execution_count": 2,
   "metadata": {},
   "outputs": [],
   "source": [
    "import pandas as pd\n",
    "import numpy as np\n",
    "\n",
    "from preprocess import (load_data, encode_labels, \n",
    "                        split_validation, count_atoms)\n",
    "from predict import eval_metric, predict_hgbr\n",
    "from features import distance"
   ]
  },
  {
   "cell_type": "markdown",
   "metadata": {},
   "source": [
    "## Create Simple Model"
   ]
  },
  {
   "cell_type": "markdown",
   "metadata": {},
   "source": [
    "### Load Training Data"
   ]
  },
  {
   "cell_type": "code",
   "execution_count": 3,
   "metadata": {},
   "outputs": [
    {
     "name": "stderr",
     "output_type": "stream",
     "text": [
      "/home/osmany/anaconda3/envs/kagg-house/lib/python3.7/site-packages/numpy/lib/arraysetops.py:569: FutureWarning: elementwise comparison failed; returning scalar instead, but in the future will perform elementwise comparison\n",
      "  mask |= (ar1 == a)\n"
     ]
    }
   ],
   "source": [
    "train, test, coords = load_data()"
   ]
  },
  {
   "cell_type": "markdown",
   "metadata": {},
   "source": [
    "### Create Train-Validation Split"
   ]
  },
  {
   "cell_type": "code",
   "execution_count": 4,
   "metadata": {},
   "outputs": [],
   "source": [
    "x_train, x_val, y_train, y_val = split_validation(train)"
   ]
  },
  {
   "cell_type": "markdown",
   "metadata": {},
   "source": [
    "### Load GB Inference Model (GBR, XGB, LGB, HGBR)\n",
    "\n",
    "Starting with HGBR"
   ]
  },
  {
   "cell_type": "code",
   "execution_count": 6,
   "metadata": {},
   "outputs": [
    {
     "data": {
      "text/plain": [
       "1.1573388617410183"
      ]
     },
     "execution_count": 6,
     "metadata": {},
     "output_type": "execute_result"
    }
   ],
   "source": [
    "y_val_hat = predict_hgbr(x_train, y_train, x_val)\n",
    "\n",
    "eval_metric(y_val, y_val_hat, x_val.type)"
   ]
  },
  {
   "cell_type": "markdown",
   "metadata": {},
   "source": [
    "## Feature Creation"
   ]
  },
  {
   "cell_type": "markdown",
   "metadata": {},
   "source": [
    "### Distance"
   ]
  },
  {
   "cell_type": "code",
   "execution_count": 9,
   "metadata": {},
   "outputs": [
    {
     "data": {
      "text/plain": [
       "0.7961766900570408"
      ]
     },
     "execution_count": 9,
     "metadata": {},
     "output_type": "execute_result"
    }
   ],
   "source": [
    "d = distance(train)\n",
    "train_d = train.assign(d=d)\n",
    "\n",
    "x_d_train, x_d_val, y_train, y_val = split_validation(train_d)\n",
    "y_d_val_hat = predict_hgbr(x_d_train, y_train, x_d_val)\n",
    "\n",
    "eval_metric(y_val, y_d_val_hat, x_d_val.type)"
   ]
  },
  {
   "cell_type": "markdown",
   "metadata": {},
   "source": [
    "### Center Molecule Coords\n",
    "\n",
    "- [x] Find center of molecule by averaging atom positions\n",
    "- [x] Subtract centroid coords from molecule coords"
   ]
  },
  {
   "cell_type": "code",
   "execution_count": 12,
   "metadata": {},
   "outputs": [
    {
     "name": "stderr",
     "output_type": "stream",
     "text": [
      "/home/osmany/anaconda3/envs/kagg-house/lib/python3.7/site-packages/numpy/lib/arraysetops.py:569: FutureWarning: elementwise comparison failed; returning scalar instead, but in the future will perform elementwise comparison\n",
      "  mask |= (ar1 == a)\n"
     ]
    }
   ],
   "source": [
    "train, test, coords = load_data(True)"
   ]
  },
  {
   "cell_type": "code",
   "execution_count": 13,
   "metadata": {},
   "outputs": [
    {
     "data": {
      "text/plain": [
       "0.7936400298618033"
      ]
     },
     "execution_count": 13,
     "metadata": {},
     "output_type": "execute_result"
    }
   ],
   "source": [
    "train_dc = train.assign(d=d)\n",
    "\n",
    "x_dc_train, x_dc_val, y_train, y_val = split_validation(train_dc)\n",
    "y_dc_val_hat = predict_hgbr(x_dc_train, y_train, x_dc_val)\n",
    "\n",
    "eval_metric(y_val, y_dc_val_hat, x_dc_val.type)"
   ]
  },
  {
   "cell_type": "code",
   "execution_count": 14,
   "metadata": {},
   "outputs": [
    {
     "data": {
      "text/html": [
       "<div>\n",
       "<style scoped>\n",
       "    .dataframe tbody tr th:only-of-type {\n",
       "        vertical-align: middle;\n",
       "    }\n",
       "\n",
       "    .dataframe tbody tr th {\n",
       "        vertical-align: top;\n",
       "    }\n",
       "\n",
       "    .dataframe thead th {\n",
       "        text-align: right;\n",
       "    }\n",
       "</style>\n",
       "<table border=\"1\" class=\"dataframe\">\n",
       "  <thead>\n",
       "    <tr style=\"text-align: right;\">\n",
       "      <th></th>\n",
       "      <th>molecule_name</th>\n",
       "      <th>type</th>\n",
       "      <th>scalar_coupling_constant</th>\n",
       "      <th>atom_0</th>\n",
       "      <th>x_0</th>\n",
       "      <th>y_0</th>\n",
       "      <th>z_0</th>\n",
       "      <th>atom_1</th>\n",
       "      <th>x_1</th>\n",
       "      <th>y_1</th>\n",
       "      <th>z_1</th>\n",
       "      <th>d</th>\n",
       "      <th>atom_C</th>\n",
       "      <th>atom_F</th>\n",
       "      <th>atom_H</th>\n",
       "      <th>atom_N</th>\n",
       "      <th>atom_O</th>\n",
       "    </tr>\n",
       "  </thead>\n",
       "  <tbody>\n",
       "    <tr>\n",
       "      <th>0</th>\n",
       "      <td>dsgdb9nsd_000001</td>\n",
       "      <td>1JHC</td>\n",
       "      <td>84.8076</td>\n",
       "      <td>H</td>\n",
       "      <td>0.002150</td>\n",
       "      <td>-0.006031</td>\n",
       "      <td>0.001976</td>\n",
       "      <td>C</td>\n",
       "      <td>-0.012698</td>\n",
       "      <td>1.085804</td>\n",
       "      <td>0.008001</td>\n",
       "      <td>1.091953</td>\n",
       "      <td>1</td>\n",
       "      <td>0</td>\n",
       "      <td>4</td>\n",
       "      <td>0</td>\n",
       "      <td>0</td>\n",
       "    </tr>\n",
       "    <tr>\n",
       "      <th>1</th>\n",
       "      <td>dsgdb9nsd_000001</td>\n",
       "      <td>2JHH</td>\n",
       "      <td>-11.2570</td>\n",
       "      <td>H</td>\n",
       "      <td>0.002150</td>\n",
       "      <td>-0.006031</td>\n",
       "      <td>0.001976</td>\n",
       "      <td>H</td>\n",
       "      <td>1.011731</td>\n",
       "      <td>1.463751</td>\n",
       "      <td>0.000277</td>\n",
       "      <td>1.783120</td>\n",
       "      <td>1</td>\n",
       "      <td>0</td>\n",
       "      <td>4</td>\n",
       "      <td>0</td>\n",
       "      <td>0</td>\n",
       "    </tr>\n",
       "    <tr>\n",
       "      <th>2</th>\n",
       "      <td>dsgdb9nsd_000001</td>\n",
       "      <td>2JHH</td>\n",
       "      <td>-11.2548</td>\n",
       "      <td>H</td>\n",
       "      <td>0.002150</td>\n",
       "      <td>-0.006031</td>\n",
       "      <td>0.001976</td>\n",
       "      <td>H</td>\n",
       "      <td>-0.540815</td>\n",
       "      <td>1.447527</td>\n",
       "      <td>-0.876644</td>\n",
       "      <td>1.783147</td>\n",
       "      <td>1</td>\n",
       "      <td>0</td>\n",
       "      <td>4</td>\n",
       "      <td>0</td>\n",
       "      <td>0</td>\n",
       "    </tr>\n",
       "    <tr>\n",
       "      <th>3</th>\n",
       "      <td>dsgdb9nsd_000001</td>\n",
       "      <td>2JHH</td>\n",
       "      <td>-11.2543</td>\n",
       "      <td>H</td>\n",
       "      <td>0.002150</td>\n",
       "      <td>-0.006031</td>\n",
       "      <td>0.001976</td>\n",
       "      <td>H</td>\n",
       "      <td>-0.523814</td>\n",
       "      <td>1.437933</td>\n",
       "      <td>0.906397</td>\n",
       "      <td>1.783157</td>\n",
       "      <td>1</td>\n",
       "      <td>0</td>\n",
       "      <td>4</td>\n",
       "      <td>0</td>\n",
       "      <td>0</td>\n",
       "    </tr>\n",
       "    <tr>\n",
       "      <th>4</th>\n",
       "      <td>dsgdb9nsd_000001</td>\n",
       "      <td>1JHC</td>\n",
       "      <td>84.8074</td>\n",
       "      <td>H</td>\n",
       "      <td>1.011731</td>\n",
       "      <td>1.463751</td>\n",
       "      <td>0.000277</td>\n",
       "      <td>C</td>\n",
       "      <td>-0.012698</td>\n",
       "      <td>1.085804</td>\n",
       "      <td>0.008001</td>\n",
       "      <td>1.091952</td>\n",
       "      <td>1</td>\n",
       "      <td>0</td>\n",
       "      <td>4</td>\n",
       "      <td>0</td>\n",
       "      <td>0</td>\n",
       "    </tr>\n",
       "  </tbody>\n",
       "</table>\n",
       "</div>"
      ],
      "text/plain": [
       "      molecule_name  type  scalar_coupling_constant atom_0       x_0  \\\n",
       "0  dsgdb9nsd_000001  1JHC                   84.8076      H  0.002150   \n",
       "1  dsgdb9nsd_000001  2JHH                  -11.2570      H  0.002150   \n",
       "2  dsgdb9nsd_000001  2JHH                  -11.2548      H  0.002150   \n",
       "3  dsgdb9nsd_000001  2JHH                  -11.2543      H  0.002150   \n",
       "4  dsgdb9nsd_000001  1JHC                   84.8074      H  1.011731   \n",
       "\n",
       "        y_0       z_0 atom_1       x_1       y_1       z_1         d  atom_C  \\\n",
       "0 -0.006031  0.001976      C -0.012698  1.085804  0.008001  1.091953       1   \n",
       "1 -0.006031  0.001976      H  1.011731  1.463751  0.000277  1.783120       1   \n",
       "2 -0.006031  0.001976      H -0.540815  1.447527 -0.876644  1.783147       1   \n",
       "3 -0.006031  0.001976      H -0.523814  1.437933  0.906397  1.783157       1   \n",
       "4  1.463751  0.000277      C -0.012698  1.085804  0.008001  1.091952       1   \n",
       "\n",
       "   atom_F  atom_H  atom_N  atom_O  \n",
       "0       0       4       0       0  \n",
       "1       0       4       0       0  \n",
       "2       0       4       0       0  \n",
       "3       0       4       0       0  \n",
       "4       0       4       0       0  "
      ]
     },
     "execution_count": 14,
     "metadata": {},
     "output_type": "execute_result"
    }
   ],
   "source": [
    "atom_freqs = count_atoms(coords)\n",
    "atom_freqs.head()\n",
    "\n",
    "train_af = train_dc.merge(atom_freqs, how='left', on='molecule_name')\n",
    "train_af.head()"
   ]
  },
  {
   "cell_type": "code",
   "execution_count": 15,
   "metadata": {},
   "outputs": [
    {
     "data": {
      "text/plain": [
       "0.770931169583137"
      ]
     },
     "execution_count": 15,
     "metadata": {},
     "output_type": "execute_result"
    }
   ],
   "source": [
    "x_af_train, x_af_val, y_af_train, y_af_val = split_validation(train_af)\n",
    "y_af_hat = predict_hgbr(x_af_train, y_af_train, x_af_val)\n",
    "\n",
    "eval_metric(y_af_val, y_af_hat, x_af_val.type)"
   ]
  },
  {
   "cell_type": "markdown",
   "metadata": {},
   "source": [
    "### Using LightGBM"
   ]
  },
  {
   "cell_type": "code",
   "execution_count": 16,
   "metadata": {},
   "outputs": [],
   "source": [
    "import lightgbm as lgb"
   ]
  },
  {
   "cell_type": "code",
   "execution_count": 17,
   "metadata": {},
   "outputs": [
    {
     "data": {
      "text/html": [
       "<div>\n",
       "<style scoped>\n",
       "    .dataframe tbody tr th:only-of-type {\n",
       "        vertical-align: middle;\n",
       "    }\n",
       "\n",
       "    .dataframe tbody tr th {\n",
       "        vertical-align: top;\n",
       "    }\n",
       "\n",
       "    .dataframe thead th {\n",
       "        text-align: right;\n",
       "    }\n",
       "</style>\n",
       "<table border=\"1\" class=\"dataframe\">\n",
       "  <thead>\n",
       "    <tr style=\"text-align: right;\">\n",
       "      <th></th>\n",
       "      <th>molecule_name</th>\n",
       "      <th>type</th>\n",
       "      <th>atom_0</th>\n",
       "      <th>x_0</th>\n",
       "      <th>y_0</th>\n",
       "      <th>z_0</th>\n",
       "      <th>atom_1</th>\n",
       "      <th>x_1</th>\n",
       "      <th>y_1</th>\n",
       "      <th>z_1</th>\n",
       "      <th>d</th>\n",
       "      <th>atom_C</th>\n",
       "      <th>atom_F</th>\n",
       "      <th>atom_H</th>\n",
       "      <th>atom_N</th>\n",
       "      <th>atom_O</th>\n",
       "    </tr>\n",
       "  </thead>\n",
       "  <tbody>\n",
       "    <tr>\n",
       "      <th>2183914</th>\n",
       "      <td>dsgdb9nsd_067982</td>\n",
       "      <td>1JHC</td>\n",
       "      <td>H</td>\n",
       "      <td>-2.186542</td>\n",
       "      <td>-0.861022</td>\n",
       "      <td>0.297951</td>\n",
       "      <td>C</td>\n",
       "      <td>-1.155135</td>\n",
       "      <td>-0.823790</td>\n",
       "      <td>0.650627</td>\n",
       "      <td>1.090673</td>\n",
       "      <td>7</td>\n",
       "      <td>0</td>\n",
       "      <td>8</td>\n",
       "      <td>0</td>\n",
       "      <td>2</td>\n",
       "    </tr>\n",
       "    <tr>\n",
       "      <th>7424</th>\n",
       "      <td>dsgdb9nsd_000397</td>\n",
       "      <td>2JHC</td>\n",
       "      <td>H</td>\n",
       "      <td>0.689308</td>\n",
       "      <td>-0.308381</td>\n",
       "      <td>0.873468</td>\n",
       "      <td>C</td>\n",
       "      <td>-1.314335</td>\n",
       "      <td>-0.609705</td>\n",
       "      <td>0.108430</td>\n",
       "      <td>2.165794</td>\n",
       "      <td>3</td>\n",
       "      <td>0</td>\n",
       "      <td>8</td>\n",
       "      <td>0</td>\n",
       "      <td>3</td>\n",
       "    </tr>\n",
       "    <tr>\n",
       "      <th>3532660</th>\n",
       "      <td>dsgdb9nsd_101672</td>\n",
       "      <td>3JHC</td>\n",
       "      <td>H</td>\n",
       "      <td>0.143110</td>\n",
       "      <td>-0.540812</td>\n",
       "      <td>3.551988</td>\n",
       "      <td>C</td>\n",
       "      <td>-0.105774</td>\n",
       "      <td>0.157833</td>\n",
       "      <td>0.122043</td>\n",
       "      <td>3.509212</td>\n",
       "      <td>8</td>\n",
       "      <td>0</td>\n",
       "      <td>18</td>\n",
       "      <td>0</td>\n",
       "      <td>1</td>\n",
       "    </tr>\n",
       "    <tr>\n",
       "      <th>1853368</th>\n",
       "      <td>dsgdb9nsd_059465</td>\n",
       "      <td>3JHH</td>\n",
       "      <td>H</td>\n",
       "      <td>0.009353</td>\n",
       "      <td>-0.967569</td>\n",
       "      <td>-0.966649</td>\n",
       "      <td>H</td>\n",
       "      <td>1.932330</td>\n",
       "      <td>1.343685</td>\n",
       "      <td>-0.349033</td>\n",
       "      <td>3.069394</td>\n",
       "      <td>8</td>\n",
       "      <td>0</td>\n",
       "      <td>14</td>\n",
       "      <td>0</td>\n",
       "      <td>1</td>\n",
       "    </tr>\n",
       "    <tr>\n",
       "      <th>1751969</th>\n",
       "      <td>dsgdb9nsd_057053</td>\n",
       "      <td>3JHC</td>\n",
       "      <td>H</td>\n",
       "      <td>0.340697</td>\n",
       "      <td>-2.973158</td>\n",
       "      <td>-0.247377</td>\n",
       "      <td>C</td>\n",
       "      <td>0.822307</td>\n",
       "      <td>-0.558100</td>\n",
       "      <td>1.227171</td>\n",
       "      <td>2.870321</td>\n",
       "      <td>6</td>\n",
       "      <td>0</td>\n",
       "      <td>10</td>\n",
       "      <td>2</td>\n",
       "      <td>1</td>\n",
       "    </tr>\n",
       "  </tbody>\n",
       "</table>\n",
       "</div>"
      ],
      "text/plain": [
       "            molecule_name  type atom_0       x_0       y_0       z_0 atom_1  \\\n",
       "2183914  dsgdb9nsd_067982  1JHC      H -2.186542 -0.861022  0.297951      C   \n",
       "7424     dsgdb9nsd_000397  2JHC      H  0.689308 -0.308381  0.873468      C   \n",
       "3532660  dsgdb9nsd_101672  3JHC      H  0.143110 -0.540812  3.551988      C   \n",
       "1853368  dsgdb9nsd_059465  3JHH      H  0.009353 -0.967569 -0.966649      H   \n",
       "1751969  dsgdb9nsd_057053  3JHC      H  0.340697 -2.973158 -0.247377      C   \n",
       "\n",
       "              x_1       y_1       z_1         d  atom_C  atom_F  atom_H  \\\n",
       "2183914 -1.155135 -0.823790  0.650627  1.090673       7       0       8   \n",
       "7424    -1.314335 -0.609705  0.108430  2.165794       3       0       8   \n",
       "3532660 -0.105774  0.157833  0.122043  3.509212       8       0      18   \n",
       "1853368  1.932330  1.343685 -0.349033  3.069394       8       0      14   \n",
       "1751969  0.822307 -0.558100  1.227171  2.870321       6       0      10   \n",
       "\n",
       "         atom_N  atom_O  \n",
       "2183914       0       2  \n",
       "7424          0       3  \n",
       "3532660       0       1  \n",
       "1853368       0       1  \n",
       "1751969       2       1  "
      ]
     },
     "execution_count": 17,
     "metadata": {},
     "output_type": "execute_result"
    }
   ],
   "source": [
    "x_af_train.head()"
   ]
  },
  {
   "cell_type": "code",
   "execution_count": 18,
   "metadata": {},
   "outputs": [
    {
     "data": {
      "text/html": [
       "<div>\n",
       "<style scoped>\n",
       "    .dataframe tbody tr th:only-of-type {\n",
       "        vertical-align: middle;\n",
       "    }\n",
       "\n",
       "    .dataframe tbody tr th {\n",
       "        vertical-align: top;\n",
       "    }\n",
       "\n",
       "    .dataframe thead th {\n",
       "        text-align: right;\n",
       "    }\n",
       "</style>\n",
       "<table border=\"1\" class=\"dataframe\">\n",
       "  <thead>\n",
       "    <tr style=\"text-align: right;\">\n",
       "      <th></th>\n",
       "      <th>type</th>\n",
       "      <th>atom_0</th>\n",
       "      <th>x_0</th>\n",
       "      <th>y_0</th>\n",
       "      <th>z_0</th>\n",
       "      <th>atom_1</th>\n",
       "      <th>x_1</th>\n",
       "      <th>y_1</th>\n",
       "      <th>z_1</th>\n",
       "      <th>d</th>\n",
       "      <th>atom_C</th>\n",
       "      <th>atom_F</th>\n",
       "      <th>atom_H</th>\n",
       "      <th>atom_N</th>\n",
       "      <th>atom_O</th>\n",
       "    </tr>\n",
       "  </thead>\n",
       "  <tbody>\n",
       "    <tr>\n",
       "      <th>2183914</th>\n",
       "      <td>0</td>\n",
       "      <td>0</td>\n",
       "      <td>-2.186542</td>\n",
       "      <td>-0.861022</td>\n",
       "      <td>0.297951</td>\n",
       "      <td>0</td>\n",
       "      <td>-1.155135</td>\n",
       "      <td>-0.823790</td>\n",
       "      <td>0.650627</td>\n",
       "      <td>1.090673</td>\n",
       "      <td>7</td>\n",
       "      <td>0</td>\n",
       "      <td>8</td>\n",
       "      <td>0</td>\n",
       "      <td>2</td>\n",
       "    </tr>\n",
       "    <tr>\n",
       "      <th>7424</th>\n",
       "      <td>2</td>\n",
       "      <td>0</td>\n",
       "      <td>0.689308</td>\n",
       "      <td>-0.308381</td>\n",
       "      <td>0.873468</td>\n",
       "      <td>0</td>\n",
       "      <td>-1.314335</td>\n",
       "      <td>-0.609705</td>\n",
       "      <td>0.108430</td>\n",
       "      <td>2.165794</td>\n",
       "      <td>3</td>\n",
       "      <td>0</td>\n",
       "      <td>8</td>\n",
       "      <td>0</td>\n",
       "      <td>3</td>\n",
       "    </tr>\n",
       "    <tr>\n",
       "      <th>3532660</th>\n",
       "      <td>5</td>\n",
       "      <td>0</td>\n",
       "      <td>0.143110</td>\n",
       "      <td>-0.540812</td>\n",
       "      <td>3.551988</td>\n",
       "      <td>0</td>\n",
       "      <td>-0.105774</td>\n",
       "      <td>0.157833</td>\n",
       "      <td>0.122043</td>\n",
       "      <td>3.509212</td>\n",
       "      <td>8</td>\n",
       "      <td>0</td>\n",
       "      <td>18</td>\n",
       "      <td>0</td>\n",
       "      <td>1</td>\n",
       "    </tr>\n",
       "    <tr>\n",
       "      <th>1853368</th>\n",
       "      <td>6</td>\n",
       "      <td>0</td>\n",
       "      <td>0.009353</td>\n",
       "      <td>-0.967569</td>\n",
       "      <td>-0.966649</td>\n",
       "      <td>1</td>\n",
       "      <td>1.932330</td>\n",
       "      <td>1.343685</td>\n",
       "      <td>-0.349033</td>\n",
       "      <td>3.069394</td>\n",
       "      <td>8</td>\n",
       "      <td>0</td>\n",
       "      <td>14</td>\n",
       "      <td>0</td>\n",
       "      <td>1</td>\n",
       "    </tr>\n",
       "    <tr>\n",
       "      <th>1751969</th>\n",
       "      <td>5</td>\n",
       "      <td>0</td>\n",
       "      <td>0.340697</td>\n",
       "      <td>-2.973158</td>\n",
       "      <td>-0.247377</td>\n",
       "      <td>0</td>\n",
       "      <td>0.822307</td>\n",
       "      <td>-0.558100</td>\n",
       "      <td>1.227171</td>\n",
       "      <td>2.870321</td>\n",
       "      <td>6</td>\n",
       "      <td>0</td>\n",
       "      <td>10</td>\n",
       "      <td>2</td>\n",
       "      <td>1</td>\n",
       "    </tr>\n",
       "  </tbody>\n",
       "</table>\n",
       "</div>"
      ],
      "text/plain": [
       "         type  atom_0       x_0       y_0       z_0  atom_1       x_1  \\\n",
       "2183914     0       0 -2.186542 -0.861022  0.297951       0 -1.155135   \n",
       "7424        2       0  0.689308 -0.308381  0.873468       0 -1.314335   \n",
       "3532660     5       0  0.143110 -0.540812  3.551988       0 -0.105774   \n",
       "1853368     6       0  0.009353 -0.967569 -0.966649       1  1.932330   \n",
       "1751969     5       0  0.340697 -2.973158 -0.247377       0  0.822307   \n",
       "\n",
       "              y_1       z_1         d  atom_C  atom_F  atom_H  atom_N  atom_O  \n",
       "2183914 -0.823790  0.650627  1.090673       7       0       8       0       2  \n",
       "7424    -0.609705  0.108430  2.165794       3       0       8       0       3  \n",
       "3532660  0.157833  0.122043  3.509212       8       0      18       0       1  \n",
       "1853368  1.343685 -0.349033  3.069394       8       0      14       0       1  \n",
       "1751969 -0.558100  1.227171  2.870321       6       0      10       2       1  "
      ]
     },
     "execution_count": 18,
     "metadata": {},
     "output_type": "execute_result"
    }
   ],
   "source": [
    "x_lgb_train = encode_labels(x_af_train)\n",
    "x_lgb_train.head()"
   ]
  },
  {
   "cell_type": "code",
   "execution_count": 19,
   "metadata": {},
   "outputs": [],
   "source": [
    "train_lgb = lgb.Dataset(x_lgb_train, label=y_af_train)"
   ]
  },
  {
   "cell_type": "code",
   "execution_count": 32,
   "metadata": {},
   "outputs": [],
   "source": [
    "param = {'objective': 'mae', 'num_leaves': 63}"
   ]
  },
  {
   "cell_type": "code",
   "execution_count": 33,
   "metadata": {},
   "outputs": [],
   "source": [
    "bst = lgb.train(param, train_lgb)"
   ]
  },
  {
   "cell_type": "code",
   "execution_count": 34,
   "metadata": {},
   "outputs": [],
   "source": [
    "x_lgb_val = encode_labels(x_af_val)\n",
    "y_lgb_hat = bst.predict(x_lgb_val)"
   ]
  },
  {
   "cell_type": "code",
   "execution_count": 35,
   "metadata": {},
   "outputs": [
    {
     "data": {
      "text/plain": [
       "0.6482341051190379"
      ]
     },
     "execution_count": 35,
     "metadata": {},
     "output_type": "execute_result"
    }
   ],
   "source": [
    "eval_metric(y_af_val, y_lgb_hat, x_lgb_val.type)"
   ]
  },
  {
   "cell_type": "code",
   "execution_count": null,
   "metadata": {},
   "outputs": [],
   "source": [
    "test.head()"
   ]
  },
  {
   "cell_type": "code",
   "execution_count": null,
   "metadata": {},
   "outputs": [],
   "source": [
    "test_af = test.merge(atom_freqs, how='left', on='molecule_name')\n",
    "test_af.head()"
   ]
  },
  {
   "cell_type": "code",
   "execution_count": null,
   "metadata": {},
   "outputs": [],
   "source": [
    "test_af = test_af.assign(d=distance(test_af))\n",
    "test_af.head()"
   ]
  },
  {
   "cell_type": "code",
   "execution_count": null,
   "metadata": {},
   "outputs": [],
   "source": [
    "test_lgb = encode_labels(test_af)\n",
    "test_lgb.head()"
   ]
  },
  {
   "cell_type": "code",
   "execution_count": null,
   "metadata": {},
   "outputs": [],
   "source": [
    "y_hat = bst.predict(test_lgb)"
   ]
  },
  {
   "cell_type": "code",
   "execution_count": null,
   "metadata": {},
   "outputs": [],
   "source": [
    "y_hat.shape"
   ]
  },
  {
   "cell_type": "code",
   "execution_count": null,
   "metadata": {},
   "outputs": [],
   "source": [
    "sample_sub = pd.read_csv('sample_submission.csv')\n",
    "sample_sub.head()"
   ]
  },
  {
   "cell_type": "code",
   "execution_count": null,
   "metadata": {},
   "outputs": [],
   "source": [
    "sample_sub.scalar_coupling_constant = y_hat\n",
    "sample_sub.head()"
   ]
  },
  {
   "cell_type": "code",
   "execution_count": null,
   "metadata": {},
   "outputs": [],
   "source": [
    "sample_sub.to_csv('lgb_sub.csv', index=False)"
   ]
  },
  {
   "cell_type": "markdown",
   "metadata": {},
   "source": [
    "### Create Features w.r.t. Centroid\n",
    "\n",
    "- [ ] Find angle between atoms w.r.t. centroid\n",
    "- [ ] Distance to centroid and to each other"
   ]
  },
  {
   "cell_type": "markdown",
   "metadata": {},
   "source": [
    "### Molecule-related Features\n",
    "\n",
    "- [x] Frequency of each atom in molecule\n",
    "- [ ] Size of molecule (x,y,z)\n",
    "- [ ] Weight of molecule"
   ]
  },
  {
   "cell_type": "markdown",
   "metadata": {},
   "source": [
    "### Molecule Graph Features\n",
    "\n",
    "- [ ] Use software to infer molecular bonds.\n",
    "- [ ] Number and types of bonds between atoms.\n",
    "- [ ] Can find dipole moments, potential energy, magnetic shielding tensor from this?"
   ]
  },
  {
   "cell_type": "code",
   "execution_count": null,
   "metadata": {},
   "outputs": [],
   "source": []
  }
 ],
 "metadata": {
  "kernelspec": {
   "display_name": "Python 3",
   "language": "python",
   "name": "python3"
  },
  "language_info": {
   "codemirror_mode": {
    "name": "ipython",
    "version": 3
   },
   "file_extension": ".py",
   "mimetype": "text/x-python",
   "name": "python",
   "nbconvert_exporter": "python",
   "pygments_lexer": "ipython3",
   "version": "3.7.3"
  }
 },
 "nbformat": 4,
 "nbformat_minor": 2
}
