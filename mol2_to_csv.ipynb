{
 "cells": [
  {
   "cell_type": "code",
   "execution_count": null,
   "metadata": {},
   "outputs": [],
   "source": [
    "import pandas as pd\n",
    "import numpy as np\n",
    "import csv\n",
    "import os"
   ]
  },
  {
   "cell_type": "code",
   "execution_count": null,
   "metadata": {},
   "outputs": [],
   "source": [
    "filename = '/home/osmany/champs-scalar-coupling/mol2_structures/dsgdb9nsd_000015.mol2'"
   ]
  },
  {
   "cell_type": "code",
   "execution_count": null,
   "metadata": {},
   "outputs": [],
   "source": [
    "with open(filename) as f:\n",
    "    text = f.read()\n",
    "    lines = text.split('\\n')\n",
    "    \n",
    "    molecule = os.path.basename(molecule).split('.')[0]\n",
    "    \n",
    "    n_structs = lines[2].split()\n",
    "    n_atoms = int(n_structs[0])\n",
    "    n_bonds = int(n_structs[1])\n",
    "    \n",
    "    atom_begin = lines.index('@<TRIPOS>ATOM') + 1\n",
    "    for i in range(atom_begin, atom_begin + n_atoms):\n",
    "        atom_info = lines[i].split()\n",
    "        print(atom_info)\n",
    "        \n",
    "        idx = atom_info[0]\n",
    "        elt = atom_info[1]\n",
    "        x = atom_info[2]\n",
    "        y = atom_info[3]\n",
    "        z = atom_info[4]\n",
    "        atom_type = atom_info[5]\n",
    "        charge = atom_info[8]\n",
    "        "
   ]
  },
  {
   "cell_type": "code",
   "execution_count": null,
   "metadata": {},
   "outputs": [],
   "source": []
  }
 ],
 "metadata": {
  "kernelspec": {
   "display_name": "Python 3",
   "language": "python",
   "name": "python3"
  },
  "language_info": {
   "codemirror_mode": {
    "name": "ipython",
    "version": 3
   },
   "file_extension": ".py",
   "mimetype": "text/x-python",
   "name": "python",
   "nbconvert_exporter": "python",
   "pygments_lexer": "ipython3",
   "version": "3.7.3"
  }
 },
 "nbformat": 4,
 "nbformat_minor": 2
}
